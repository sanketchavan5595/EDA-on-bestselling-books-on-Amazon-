{
  "nbformat": 4,
  "nbformat_minor": 0,
  "metadata": {
    "kernelspec": {
      "display_name": "Python 3",
      "language": "python",
      "name": "python3"
    },
    "language_info": {
      "codemirror_mode": {
        "name": "ipython",
        "version": 3
      },
      "file_extension": ".py",
      "mimetype": "text/x-python",
      "name": "python",
      "nbconvert_exporter": "python",
      "pygments_lexer": "ipython3",
      "version": "3.7.9"
    },
    "colab": {
      "name": "EDA on Bestseller book on Amazon.ipynb",
      "provenance": [],
      "include_colab_link": true
    }
  },
  "cells": [
    {
      "cell_type": "markdown",
      "metadata": {
        "id": "view-in-github",
        "colab_type": "text"
      },
      "source": [
        "<a href=\"https://colab.research.google.com/github/sanketchavan5595/EDA-on-bestselling-books-on-Amazon-/blob/main/EDA_on_Bestseller_book_on_Amazon.ipynb\" target=\"_parent\"><img src=\"https://colab.research.google.com/assets/colab-badge.svg\" alt=\"Open In Colab\"/></a>"
      ]
    },
    {
      "cell_type": "markdown",
      "metadata": {
        "id": "5tmCMFvU6ArY"
      },
      "source": [
        "# Exploratory data analysis on bestselling books on Amazon\r\n",
        "\r\n",
        "We will use various python libraries to analyse the data and gain the insights \r\n",
        "\r\n",
        "you can find the dataset [here](https://raw.githubusercontent.com/sanketchavan5595/EDA-on-bestselling-books-on-Amazon-/main/bestsellers%20with%20categories.csv)\r\n"
      ]
    },
    {
      "cell_type": "code",
      "metadata": {
        "id": "4cMmoqtsskXP"
      },
      "source": [
        "import numpy as np \n",
        "import pandas as pd\n",
        "import matplotlib.pyplot as plt\n",
        "import seaborn as sns \n",
        "%matplotlib inline "
      ],
      "execution_count": 1,
      "outputs": []
    },
    {
      "cell_type": "code",
      "metadata": {
        "colab": {
          "base_uri": "https://localhost:8080/",
          "height": 195
        },
        "id": "vpwkBC81skXU",
        "outputId": "7cc99e9f-920b-45fd-89f9-d3a7293cd979"
      },
      "source": [
        "url = 'https://raw.githubusercontent.com/sanketchavan5595/EDA-on-bestselling-books-on-Amazon-/main/bestsellers%20with%20categories.csv'\n",
        "df = pd.read_csv(url)\n",
        "df.head()"
      ],
      "execution_count": 2,
      "outputs": [
        {
          "output_type": "execute_result",
          "data": {
            "text/html": [
              "<div>\n",
              "<style scoped>\n",
              "    .dataframe tbody tr th:only-of-type {\n",
              "        vertical-align: middle;\n",
              "    }\n",
              "\n",
              "    .dataframe tbody tr th {\n",
              "        vertical-align: top;\n",
              "    }\n",
              "\n",
              "    .dataframe thead th {\n",
              "        text-align: right;\n",
              "    }\n",
              "</style>\n",
              "<table border=\"1\" class=\"dataframe\">\n",
              "  <thead>\n",
              "    <tr style=\"text-align: right;\">\n",
              "      <th></th>\n",
              "      <th>Name</th>\n",
              "      <th>Author</th>\n",
              "      <th>User Rating</th>\n",
              "      <th>Reviews</th>\n",
              "      <th>Price</th>\n",
              "      <th>Year</th>\n",
              "      <th>Genre</th>\n",
              "    </tr>\n",
              "  </thead>\n",
              "  <tbody>\n",
              "    <tr>\n",
              "      <th>0</th>\n",
              "      <td>10-Day Green Smoothie Cleanse</td>\n",
              "      <td>JJ Smith</td>\n",
              "      <td>4.7</td>\n",
              "      <td>17350</td>\n",
              "      <td>8</td>\n",
              "      <td>2016</td>\n",
              "      <td>Non Fiction</td>\n",
              "    </tr>\n",
              "    <tr>\n",
              "      <th>1</th>\n",
              "      <td>11/22/63: A Novel</td>\n",
              "      <td>Stephen King</td>\n",
              "      <td>4.6</td>\n",
              "      <td>2052</td>\n",
              "      <td>22</td>\n",
              "      <td>2011</td>\n",
              "      <td>Fiction</td>\n",
              "    </tr>\n",
              "    <tr>\n",
              "      <th>2</th>\n",
              "      <td>12 Rules for Life: An Antidote to Chaos</td>\n",
              "      <td>Jordan B. Peterson</td>\n",
              "      <td>4.7</td>\n",
              "      <td>18979</td>\n",
              "      <td>15</td>\n",
              "      <td>2018</td>\n",
              "      <td>Non Fiction</td>\n",
              "    </tr>\n",
              "    <tr>\n",
              "      <th>3</th>\n",
              "      <td>1984 (Signet Classics)</td>\n",
              "      <td>George Orwell</td>\n",
              "      <td>4.7</td>\n",
              "      <td>21424</td>\n",
              "      <td>6</td>\n",
              "      <td>2017</td>\n",
              "      <td>Fiction</td>\n",
              "    </tr>\n",
              "    <tr>\n",
              "      <th>4</th>\n",
              "      <td>5,000 Awesome Facts (About Everything!) (Natio...</td>\n",
              "      <td>National Geographic Kids</td>\n",
              "      <td>4.8</td>\n",
              "      <td>7665</td>\n",
              "      <td>12</td>\n",
              "      <td>2019</td>\n",
              "      <td>Non Fiction</td>\n",
              "    </tr>\n",
              "  </tbody>\n",
              "</table>\n",
              "</div>"
            ],
            "text/plain": [
              "                                                Name  ...        Genre\n",
              "0                      10-Day Green Smoothie Cleanse  ...  Non Fiction\n",
              "1                                  11/22/63: A Novel  ...      Fiction\n",
              "2            12 Rules for Life: An Antidote to Chaos  ...  Non Fiction\n",
              "3                             1984 (Signet Classics)  ...      Fiction\n",
              "4  5,000 Awesome Facts (About Everything!) (Natio...  ...  Non Fiction\n",
              "\n",
              "[5 rows x 7 columns]"
            ]
          },
          "metadata": {
            "tags": []
          },
          "execution_count": 2
        }
      ]
    },
    {
      "cell_type": "code",
      "metadata": {
        "colab": {
          "base_uri": "https://localhost:8080/"
        },
        "id": "IwiqrimHskXV",
        "outputId": "f76e4141-0308-4219-b740-a8b3f2be84eb"
      },
      "source": [
        "df.info()"
      ],
      "execution_count": 3,
      "outputs": [
        {
          "output_type": "stream",
          "text": [
            "<class 'pandas.core.frame.DataFrame'>\n",
            "RangeIndex: 550 entries, 0 to 549\n",
            "Data columns (total 7 columns):\n",
            " #   Column       Non-Null Count  Dtype  \n",
            "---  ------       --------------  -----  \n",
            " 0   Name         550 non-null    object \n",
            " 1   Author       550 non-null    object \n",
            " 2   User Rating  550 non-null    float64\n",
            " 3   Reviews      550 non-null    int64  \n",
            " 4   Price        550 non-null    int64  \n",
            " 5   Year         550 non-null    int64  \n",
            " 6   Genre        550 non-null    object \n",
            "dtypes: float64(1), int64(3), object(3)\n",
            "memory usage: 30.2+ KB\n"
          ],
          "name": "stdout"
        }
      ]
    },
    {
      "cell_type": "code",
      "metadata": {
        "colab": {
          "base_uri": "https://localhost:8080/",
          "height": 284
        },
        "id": "lRXT6v_zskXW",
        "outputId": "934f7958-260e-4c86-b0dc-a25696ace239"
      },
      "source": [
        "df.describe()"
      ],
      "execution_count": 4,
      "outputs": [
        {
          "output_type": "execute_result",
          "data": {
            "text/html": [
              "<div>\n",
              "<style scoped>\n",
              "    .dataframe tbody tr th:only-of-type {\n",
              "        vertical-align: middle;\n",
              "    }\n",
              "\n",
              "    .dataframe tbody tr th {\n",
              "        vertical-align: top;\n",
              "    }\n",
              "\n",
              "    .dataframe thead th {\n",
              "        text-align: right;\n",
              "    }\n",
              "</style>\n",
              "<table border=\"1\" class=\"dataframe\">\n",
              "  <thead>\n",
              "    <tr style=\"text-align: right;\">\n",
              "      <th></th>\n",
              "      <th>User Rating</th>\n",
              "      <th>Reviews</th>\n",
              "      <th>Price</th>\n",
              "      <th>Year</th>\n",
              "    </tr>\n",
              "  </thead>\n",
              "  <tbody>\n",
              "    <tr>\n",
              "      <th>count</th>\n",
              "      <td>550.000000</td>\n",
              "      <td>550.000000</td>\n",
              "      <td>550.000000</td>\n",
              "      <td>550.000000</td>\n",
              "    </tr>\n",
              "    <tr>\n",
              "      <th>mean</th>\n",
              "      <td>4.618364</td>\n",
              "      <td>11953.281818</td>\n",
              "      <td>13.100000</td>\n",
              "      <td>2014.000000</td>\n",
              "    </tr>\n",
              "    <tr>\n",
              "      <th>std</th>\n",
              "      <td>0.226980</td>\n",
              "      <td>11731.132017</td>\n",
              "      <td>10.842262</td>\n",
              "      <td>3.165156</td>\n",
              "    </tr>\n",
              "    <tr>\n",
              "      <th>min</th>\n",
              "      <td>3.300000</td>\n",
              "      <td>37.000000</td>\n",
              "      <td>0.000000</td>\n",
              "      <td>2009.000000</td>\n",
              "    </tr>\n",
              "    <tr>\n",
              "      <th>25%</th>\n",
              "      <td>4.500000</td>\n",
              "      <td>4058.000000</td>\n",
              "      <td>7.000000</td>\n",
              "      <td>2011.000000</td>\n",
              "    </tr>\n",
              "    <tr>\n",
              "      <th>50%</th>\n",
              "      <td>4.700000</td>\n",
              "      <td>8580.000000</td>\n",
              "      <td>11.000000</td>\n",
              "      <td>2014.000000</td>\n",
              "    </tr>\n",
              "    <tr>\n",
              "      <th>75%</th>\n",
              "      <td>4.800000</td>\n",
              "      <td>17253.250000</td>\n",
              "      <td>16.000000</td>\n",
              "      <td>2017.000000</td>\n",
              "    </tr>\n",
              "    <tr>\n",
              "      <th>max</th>\n",
              "      <td>4.900000</td>\n",
              "      <td>87841.000000</td>\n",
              "      <td>105.000000</td>\n",
              "      <td>2019.000000</td>\n",
              "    </tr>\n",
              "  </tbody>\n",
              "</table>\n",
              "</div>"
            ],
            "text/plain": [
              "       User Rating       Reviews       Price         Year\n",
              "count   550.000000    550.000000  550.000000   550.000000\n",
              "mean      4.618364  11953.281818   13.100000  2014.000000\n",
              "std       0.226980  11731.132017   10.842262     3.165156\n",
              "min       3.300000     37.000000    0.000000  2009.000000\n",
              "25%       4.500000   4058.000000    7.000000  2011.000000\n",
              "50%       4.700000   8580.000000   11.000000  2014.000000\n",
              "75%       4.800000  17253.250000   16.000000  2017.000000\n",
              "max       4.900000  87841.000000  105.000000  2019.000000"
            ]
          },
          "metadata": {
            "tags": []
          },
          "execution_count": 4
        }
      ]
    },
    {
      "cell_type": "code",
      "metadata": {
        "colab": {
          "base_uri": "https://localhost:8080/"
        },
        "id": "5yNAOEylskXW",
        "outputId": "5152e173-9fea-4ce6-a03b-4d510bf8813a"
      },
      "source": [
        "df.isnull().sum()"
      ],
      "execution_count": 5,
      "outputs": [
        {
          "output_type": "execute_result",
          "data": {
            "text/plain": [
              "Name           0\n",
              "Author         0\n",
              "User Rating    0\n",
              "Reviews        0\n",
              "Price          0\n",
              "Year           0\n",
              "Genre          0\n",
              "dtype: int64"
            ]
          },
          "metadata": {
            "tags": []
          },
          "execution_count": 5
        }
      ]
    },
    {
      "cell_type": "markdown",
      "metadata": {
        "id": "5-uj2dUxskXW"
      },
      "source": [
        "There are no null values "
      ]
    },
    {
      "cell_type": "code",
      "metadata": {
        "colab": {
          "base_uri": "https://localhost:8080/"
        },
        "id": "8Vs-LRIYskXW",
        "outputId": "63cae3b9-3199-4a44-df44-1acb79df1b30"
      },
      "source": [
        "df.shape"
      ],
      "execution_count": 6,
      "outputs": [
        {
          "output_type": "execute_result",
          "data": {
            "text/plain": [
              "(550, 7)"
            ]
          },
          "metadata": {
            "tags": []
          },
          "execution_count": 6
        }
      ]
    },
    {
      "cell_type": "markdown",
      "metadata": {
        "id": "DdWjmp90skXX"
      },
      "source": [
        "There are total of 550 books listed as bestsellers on amazon \n"
      ]
    },
    {
      "cell_type": "markdown",
      "metadata": {
        "id": "4ZKrqK6KskXX"
      },
      "source": [
        "### Now let's take a look at the variables\n",
        "* **Categorical variables**:\n",
        "        - Genre\n",
        "        - Year\n",
        "* **Numerical variables**:\n",
        "        - Reviews\n",
        "        - User Rating\n",
        "        - Price \n"
      ]
    },
    {
      "cell_type": "markdown",
      "metadata": {
        "id": "FmKMNlEDskXX"
      },
      "source": [
        "### Categorical variables"
      ]
    },
    {
      "cell_type": "markdown",
      "metadata": {
        "id": "YrwEc8QgskXX"
      },
      "source": [
        "#### Genre"
      ]
    },
    {
      "cell_type": "code",
      "metadata": {
        "colab": {
          "base_uri": "https://localhost:8080/"
        },
        "id": "Z1pVJYpCskXX",
        "outputId": "ded8ca68-912a-4d9f-a7d3-59c6d1bc8bd6"
      },
      "source": [
        "df.Genre.value_counts()"
      ],
      "execution_count": 7,
      "outputs": [
        {
          "output_type": "execute_result",
          "data": {
            "text/plain": [
              "Non Fiction    310\n",
              "Fiction        240\n",
              "Name: Genre, dtype: int64"
            ]
          },
          "metadata": {
            "tags": []
          },
          "execution_count": 7
        }
      ]
    },
    {
      "cell_type": "code",
      "metadata": {
        "colab": {
          "base_uri": "https://localhost:8080/",
          "height": 427
        },
        "id": "R7qDCRWtskXY",
        "outputId": "f0632a89-730f-4ef4-e57b-4df2f8b49143"
      },
      "source": [
        "labels = list(df.Genre.value_counts().to_dict().keys())\n",
        "non_fiction = list(df.Genre.value_counts().to_dict().values())[0]\n",
        "fiction = list(df.Genre.value_counts().to_dict().values())[1]\n",
        "\n",
        "plt.figure(figsize=(7,7))\n",
        "plt.title(\"Genres\")\n",
        "explode = [0.01, 0.02]\n",
        "colors = ['red', 'yellow']\n",
        "\n",
        "plt.pie([non_fiction, fiction], \n",
        "        labels = labels, \n",
        "        autopct = '%.2f %%',\n",
        "        explode = explode, \n",
        "        colors = colors);"
      ],
      "execution_count": 8,
      "outputs": [
        {
          "output_type": "display_data",
          "data": {
            "image/png": "[encoded data removed]",
            "text/plain": [
              "<Figure size 504x504 with 1 Axes>"
            ]
          },
          "metadata": {
            "tags": []
          }
        }
      ]
    },
    {
      "cell_type": "markdown",
      "metadata": {
        "id": "RQaaCj6BskXY"
      },
      "source": [
        "**Non-Fiction books are more in number than the fiction books**"
      ]
    },
    {
      "cell_type": "markdown",
      "metadata": {
        "id": "_wkXUuT5skXY"
      },
      "source": [
        "--"
      ]
    },
    {
      "cell_type": "markdown",
      "metadata": {
        "id": "UZnFVpaWskXY"
      },
      "source": [
        "#### Year"
      ]
    },
    {
      "cell_type": "code",
      "metadata": {
        "colab": {
          "base_uri": "https://localhost:8080/"
        },
        "id": "XexmgrRTskXY",
        "outputId": "9987aa96-1d63-404c-8134-a66b7655970e"
      },
      "source": [
        "df.Year.value_counts()"
      ],
      "execution_count": 9,
      "outputs": [
        {
          "output_type": "execute_result",
          "data": {
            "text/plain": [
              "2019    50\n",
              "2018    50\n",
              "2017    50\n",
              "2016    50\n",
              "2015    50\n",
              "2014    50\n",
              "2013    50\n",
              "2012    50\n",
              "2011    50\n",
              "2010    50\n",
              "2009    50\n",
              "Name: Year, dtype: int64"
            ]
          },
          "metadata": {
            "tags": []
          },
          "execution_count": 9
        }
      ]
    },
    {
      "cell_type": "code",
      "metadata": {
        "colab": {
          "base_uri": "https://localhost:8080/",
          "height": 458
        },
        "id": "Ww8mCL77skXZ",
        "outputId": "6af7e682-bf1b-4308-a443-d32719a37d33"
      },
      "source": [
        "plt.figure(figsize=(7,7))\n",
        "plt.title('Year v/s Genre')\n",
        "\n",
        "\n",
        "plt.bar(df[df['Genre']== 'Non Fiction'].Year.value_counts().to_dict().keys(),\n",
        "        df[df['Genre']== 'Non Fiction'].Year.value_counts().to_dict().values());\n",
        "\n",
        "\n",
        "plt.bar(df[df['Genre']== 'Fiction'].Year.value_counts().to_dict().keys(),\n",
        "        df[df['Genre']== 'Fiction'].Year.value_counts().to_dict().values());\n",
        "\n",
        "plt.xlabel('Year')\n",
        "plt.ylabel(\"Number of Books\");\n"
      ],
      "execution_count": 10,
      "outputs": [
        {
          "output_type": "display_data",
          "data": {
            "image/png": "[encoded data removed]",
            "text/plain": [
              "<Figure size 504x504 with 1 Axes>"
            ]
          },
          "metadata": {
            "tags": [],
            "needs_background": "light"
          }
        }
      ]
    },
    {
      "cell_type": "markdown",
      "metadata": {
        "id": "Nbh-CUrZskXZ"
      },
      "source": [
        "**Every year, more non-fiction books became bessellers than the fiction books; except in the year 2014, when more number of fiction books (29) became bestsellers than the non-fiction books (21)**"
      ]
    },
    {
      "cell_type": "markdown",
      "metadata": {
        "id": "vSjLE0IpskXZ"
      },
      "source": [
        "\r\n",
        "\r\n",
        "---\r\n",
        "\r\n",
        "---\r\n",
        "\r\n",
        "\r\n",
        "\r\n"
      ]
    },
    {
      "cell_type": "markdown",
      "metadata": {
        "id": "HrY4SH7JskXZ"
      },
      "source": [
        "### Numerical variables"
      ]
    },
    {
      "cell_type": "markdown",
      "metadata": {
        "id": "uIUkTFW7skXZ"
      },
      "source": [
        "#### Reviews"
      ]
    },
    {
      "cell_type": "code",
      "metadata": {
        "colab": {
          "base_uri": "https://localhost:8080/",
          "height": 402
        },
        "id": "Bq7QsDN5skXZ",
        "outputId": "735f2714-b2e2-4156-ad8c-53378b20ce28"
      },
      "source": [
        "df[['Name', 'Genre', 'Reviews']]"
      ],
      "execution_count": 11,
      "outputs": [
        {
          "output_type": "execute_result",
          "data": {
            "text/html": [
              "<div>\n",
              "<style scoped>\n",
              "    .dataframe tbody tr th:only-of-type {\n",
              "        vertical-align: middle;\n",
              "    }\n",
              "\n",
              "    .dataframe tbody tr th {\n",
              "        vertical-align: top;\n",
              "    }\n",
              "\n",
              "    .dataframe thead th {\n",
              "        text-align: right;\n",
              "    }\n",
              "</style>\n",
              "<table border=\"1\" class=\"dataframe\">\n",
              "  <thead>\n",
              "    <tr style=\"text-align: right;\">\n",
              "      <th></th>\n",
              "      <th>Name</th>\n",
              "      <th>Genre</th>\n",
              "      <th>Reviews</th>\n",
              "    </tr>\n",
              "  </thead>\n",
              "  <tbody>\n",
              "    <tr>\n",
              "      <th>0</th>\n",
              "      <td>10-Day Green Smoothie Cleanse</td>\n",
              "      <td>Non Fiction</td>\n",
              "      <td>17350</td>\n",
              "    </tr>\n",
              "    <tr>\n",
              "      <th>1</th>\n",
              "      <td>11/22/63: A Novel</td>\n",
              "      <td>Fiction</td>\n",
              "      <td>2052</td>\n",
              "    </tr>\n",
              "    <tr>\n",
              "      <th>2</th>\n",
              "      <td>12 Rules for Life: An Antidote to Chaos</td>\n",
              "      <td>Non Fiction</td>\n",
              "      <td>18979</td>\n",
              "    </tr>\n",
              "    <tr>\n",
              "      <th>3</th>\n",
              "      <td>1984 (Signet Classics)</td>\n",
              "      <td>Fiction</td>\n",
              "      <td>21424</td>\n",
              "    </tr>\n",
              "    <tr>\n",
              "      <th>4</th>\n",
              "      <td>5,000 Awesome Facts (About Everything!) (Natio...</td>\n",
              "      <td>Non Fiction</td>\n",
              "      <td>7665</td>\n",
              "    </tr>\n",
              "    <tr>\n",
              "      <th>...</th>\n",
              "      <td>...</td>\n",
              "      <td>...</td>\n",
              "      <td>...</td>\n",
              "    </tr>\n",
              "    <tr>\n",
              "      <th>545</th>\n",
              "      <td>Wrecking Ball (Diary of a Wimpy Kid Book 14)</td>\n",
              "      <td>Fiction</td>\n",
              "      <td>9413</td>\n",
              "    </tr>\n",
              "    <tr>\n",
              "      <th>546</th>\n",
              "      <td>You Are a Badass: How to Stop Doubting Your Gr...</td>\n",
              "      <td>Non Fiction</td>\n",
              "      <td>14331</td>\n",
              "    </tr>\n",
              "    <tr>\n",
              "      <th>547</th>\n",
              "      <td>You Are a Badass: How to Stop Doubting Your Gr...</td>\n",
              "      <td>Non Fiction</td>\n",
              "      <td>14331</td>\n",
              "    </tr>\n",
              "    <tr>\n",
              "      <th>548</th>\n",
              "      <td>You Are a Badass: How to Stop Doubting Your Gr...</td>\n",
              "      <td>Non Fiction</td>\n",
              "      <td>14331</td>\n",
              "    </tr>\n",
              "    <tr>\n",
              "      <th>549</th>\n",
              "      <td>You Are a Badass: How to Stop Doubting Your Gr...</td>\n",
              "      <td>Non Fiction</td>\n",
              "      <td>14331</td>\n",
              "    </tr>\n",
              "  </tbody>\n",
              "</table>\n",
              "<p>550 rows × 3 columns</p>\n",
              "</div>"
            ],
            "text/plain": [
              "                                                  Name        Genre  Reviews\n",
              "0                        10-Day Green Smoothie Cleanse  Non Fiction    17350\n",
              "1                                    11/22/63: A Novel      Fiction     2052\n",
              "2              12 Rules for Life: An Antidote to Chaos  Non Fiction    18979\n",
              "3                               1984 (Signet Classics)      Fiction    21424\n",
              "4    5,000 Awesome Facts (About Everything!) (Natio...  Non Fiction     7665\n",
              "..                                                 ...          ...      ...\n",
              "545       Wrecking Ball (Diary of a Wimpy Kid Book 14)      Fiction     9413\n",
              "546  You Are a Badass: How to Stop Doubting Your Gr...  Non Fiction    14331\n",
              "547  You Are a Badass: How to Stop Doubting Your Gr...  Non Fiction    14331\n",
              "548  You Are a Badass: How to Stop Doubting Your Gr...  Non Fiction    14331\n",
              "549  You Are a Badass: How to Stop Doubting Your Gr...  Non Fiction    14331\n",
              "\n",
              "[550 rows x 3 columns]"
            ]
          },
          "metadata": {
            "tags": []
          },
          "execution_count": 11
        }
      ]
    },
    {
      "cell_type": "code",
      "metadata": {
        "colab": {
          "base_uri": "https://localhost:8080/",
          "height": 458
        },
        "id": "Lu7kQC40skXa",
        "outputId": "b6923e26-16a1-482f-bd06-96bbdf473192"
      },
      "source": [
        "plt.figure(figsize=(7,7))\n",
        "plt.title(\"Genre v/s Reviews\")\n",
        "sns.barplot(x = 'Genre',\n",
        "            y = 'Reviews',\n",
        "            palette = \"viridis\",\n",
        "            data = df);"
      ],
      "execution_count": 12,
      "outputs": [
        {
          "output_type": "display_data",
          "data": {
            "image/png": "[encoded data removed]",
            "text/plain": [
              "<Figure size 504x504 with 1 Axes>"
            ]
          },
          "metadata": {
            "tags": [],
            "needs_background": "light"
          }
        }
      ]
    },
    {
      "cell_type": "markdown",
      "metadata": {
        "id": "OxE92GzPskXa"
      },
      "source": [
        "**Fiction books have more reviews than the Non-Fiction books**"
      ]
    },
    {
      "cell_type": "markdown",
      "metadata": {
        "id": "HJs39ukVskXa"
      },
      "source": [
        "--"
      ]
    },
    {
      "cell_type": "markdown",
      "metadata": {
        "id": "wvMujRwVskXa"
      },
      "source": [
        "#### User Rating"
      ]
    },
    {
      "cell_type": "code",
      "metadata": {
        "colab": {
          "base_uri": "https://localhost:8080/",
          "height": 402
        },
        "id": "1dRzYbPrskXa",
        "outputId": "ba9037ea-8232-4f94-99f8-5e76dcb5b4ed"
      },
      "source": [
        "df[['Name', 'Genre', 'Price', 'User Rating']]"
      ],
      "execution_count": 13,
      "outputs": [
        {
          "output_type": "execute_result",
          "data": {
            "text/html": [
              "<div>\n",
              "<style scoped>\n",
              "    .dataframe tbody tr th:only-of-type {\n",
              "        vertical-align: middle;\n",
              "    }\n",
              "\n",
              "    .dataframe tbody tr th {\n",
              "        vertical-align: top;\n",
              "    }\n",
              "\n",
              "    .dataframe thead th {\n",
              "        text-align: right;\n",
              "    }\n",
              "</style>\n",
              "<table border=\"1\" class=\"dataframe\">\n",
              "  <thead>\n",
              "    <tr style=\"text-align: right;\">\n",
              "      <th></th>\n",
              "      <th>Name</th>\n",
              "      <th>Genre</th>\n",
              "      <th>Price</th>\n",
              "      <th>User Rating</th>\n",
              "    </tr>\n",
              "  </thead>\n",
              "  <tbody>\n",
              "    <tr>\n",
              "      <th>0</th>\n",
              "      <td>10-Day Green Smoothie Cleanse</td>\n",
              "      <td>Non Fiction</td>\n",
              "      <td>8</td>\n",
              "      <td>4.7</td>\n",
              "    </tr>\n",
              "    <tr>\n",
              "      <th>1</th>\n",
              "      <td>11/22/63: A Novel</td>\n",
              "      <td>Fiction</td>\n",
              "      <td>22</td>\n",
              "      <td>4.6</td>\n",
              "    </tr>\n",
              "    <tr>\n",
              "      <th>2</th>\n",
              "      <td>12 Rules for Life: An Antidote to Chaos</td>\n",
              "      <td>Non Fiction</td>\n",
              "      <td>15</td>\n",
              "      <td>4.7</td>\n",
              "    </tr>\n",
              "    <tr>\n",
              "      <th>3</th>\n",
              "      <td>1984 (Signet Classics)</td>\n",
              "      <td>Fiction</td>\n",
              "      <td>6</td>\n",
              "      <td>4.7</td>\n",
              "    </tr>\n",
              "    <tr>\n",
              "      <th>4</th>\n",
              "      <td>5,000 Awesome Facts (About Everything!) (Natio...</td>\n",
              "      <td>Non Fiction</td>\n",
              "      <td>12</td>\n",
              "      <td>4.8</td>\n",
              "    </tr>\n",
              "    <tr>\n",
              "      <th>...</th>\n",
              "      <td>...</td>\n",
              "      <td>...</td>\n",
              "      <td>...</td>\n",
              "      <td>...</td>\n",
              "    </tr>\n",
              "    <tr>\n",
              "      <th>545</th>\n",
              "      <td>Wrecking Ball (Diary of a Wimpy Kid Book 14)</td>\n",
              "      <td>Fiction</td>\n",
              "      <td>8</td>\n",
              "      <td>4.9</td>\n",
              "    </tr>\n",
              "    <tr>\n",
              "      <th>546</th>\n",
              "      <td>You Are a Badass: How to Stop Doubting Your Gr...</td>\n",
              "      <td>Non Fiction</td>\n",
              "      <td>8</td>\n",
              "      <td>4.7</td>\n",
              "    </tr>\n",
              "    <tr>\n",
              "      <th>547</th>\n",
              "      <td>You Are a Badass: How to Stop Doubting Your Gr...</td>\n",
              "      <td>Non Fiction</td>\n",
              "      <td>8</td>\n",
              "      <td>4.7</td>\n",
              "    </tr>\n",
              "    <tr>\n",
              "      <th>548</th>\n",
              "      <td>You Are a Badass: How to Stop Doubting Your Gr...</td>\n",
              "      <td>Non Fiction</td>\n",
              "      <td>8</td>\n",
              "      <td>4.7</td>\n",
              "    </tr>\n",
              "    <tr>\n",
              "      <th>549</th>\n",
              "      <td>You Are a Badass: How to Stop Doubting Your Gr...</td>\n",
              "      <td>Non Fiction</td>\n",
              "      <td>8</td>\n",
              "      <td>4.7</td>\n",
              "    </tr>\n",
              "  </tbody>\n",
              "</table>\n",
              "<p>550 rows × 4 columns</p>\n",
              "</div>"
            ],
            "text/plain": [
              "                                                  Name  ... User Rating\n",
              "0                        10-Day Green Smoothie Cleanse  ...         4.7\n",
              "1                                    11/22/63: A Novel  ...         4.6\n",
              "2              12 Rules for Life: An Antidote to Chaos  ...         4.7\n",
              "3                               1984 (Signet Classics)  ...         4.7\n",
              "4    5,000 Awesome Facts (About Everything!) (Natio...  ...         4.8\n",
              "..                                                 ...  ...         ...\n",
              "545       Wrecking Ball (Diary of a Wimpy Kid Book 14)  ...         4.9\n",
              "546  You Are a Badass: How to Stop Doubting Your Gr...  ...         4.7\n",
              "547  You Are a Badass: How to Stop Doubting Your Gr...  ...         4.7\n",
              "548  You Are a Badass: How to Stop Doubting Your Gr...  ...         4.7\n",
              "549  You Are a Badass: How to Stop Doubting Your Gr...  ...         4.7\n",
              "\n",
              "[550 rows x 4 columns]"
            ]
          },
          "metadata": {
            "tags": []
          },
          "execution_count": 13
        }
      ]
    },
    {
      "cell_type": "code",
      "metadata": {
        "colab": {
          "base_uri": "https://localhost:8080/",
          "height": 458
        },
        "id": "o-glG4LVskXa",
        "outputId": "76c22518-363b-4c53-98c4-6dcc1f8deec7"
      },
      "source": [
        "nf = df[df['Genre']== 'Non Fiction']['User Rating'].min()\n",
        "f = df[df['Genre']== 'Fiction']['User Rating'].min()\n",
        "\n",
        "plt.figure(figsize=(7,7))\n",
        "plt.title(\"Minimum user rating in each Genre\")\n",
        "plt.xlabel('Genre')\n",
        "plt.ylabel('User Rating')\n",
        "sns.barplot(x= list(df.Genre.value_counts().to_dict().keys()), \n",
        "            y = [nf,f],\n",
        "            palette = 'rocket_r');"
      ],
      "execution_count": 14,
      "outputs": [
        {
          "output_type": "display_data",
          "data": {
            "image/png": "[encoded data removed]",
            "text/plain": [
              "<Figure size 504x504 with 1 Axes>"
            ]
          },
          "metadata": {
            "tags": [],
            "needs_background": "light"
          }
        }
      ]
    },
    {
      "cell_type": "markdown",
      "metadata": {
        "id": "Sx3GZETXskXb"
      },
      "source": [
        "**The minimum user rating in fiction genre is 3.3 whereas it is 4.0 in non-fiction genre**"
      ]
    },
    {
      "cell_type": "markdown",
      "metadata": {
        "id": "xu3IzUh6skXb"
      },
      "source": [
        "--"
      ]
    },
    {
      "cell_type": "markdown",
      "metadata": {
        "id": "5dao1au8skXb"
      },
      "source": [
        "#### Price"
      ]
    },
    {
      "cell_type": "code",
      "metadata": {
        "colab": {
          "base_uri": "https://localhost:8080/",
          "height": 402
        },
        "id": "0kYIqH2oskXb",
        "outputId": "26b13318-dea0-4160-ff24-6e8c841a478f"
      },
      "source": [
        "df[['Name', 'Price', 'User Rating', 'Reviews','Genre']]"
      ],
      "execution_count": 15,
      "outputs": [
        {
          "output_type": "execute_result",
          "data": {
            "text/html": [
              "<div>\n",
              "<style scoped>\n",
              "    .dataframe tbody tr th:only-of-type {\n",
              "        vertical-align: middle;\n",
              "    }\n",
              "\n",
              "    .dataframe tbody tr th {\n",
              "        vertical-align: top;\n",
              "    }\n",
              "\n",
              "    .dataframe thead th {\n",
              "        text-align: right;\n",
              "    }\n",
              "</style>\n",
              "<table border=\"1\" class=\"dataframe\">\n",
              "  <thead>\n",
              "    <tr style=\"text-align: right;\">\n",
              "      <th></th>\n",
              "      <th>Name</th>\n",
              "      <th>Price</th>\n",
              "      <th>User Rating</th>\n",
              "      <th>Reviews</th>\n",
              "      <th>Genre</th>\n",
              "    </tr>\n",
              "  </thead>\n",
              "  <tbody>\n",
              "    <tr>\n",
              "      <th>0</th>\n",
              "      <td>10-Day Green Smoothie Cleanse</td>\n",
              "      <td>8</td>\n",
              "      <td>4.7</td>\n",
              "      <td>17350</td>\n",
              "      <td>Non Fiction</td>\n",
              "    </tr>\n",
              "    <tr>\n",
              "      <th>1</th>\n",
              "      <td>11/22/63: A Novel</td>\n",
              "      <td>22</td>\n",
              "      <td>4.6</td>\n",
              "      <td>2052</td>\n",
              "      <td>Fiction</td>\n",
              "    </tr>\n",
              "    <tr>\n",
              "      <th>2</th>\n",
              "      <td>12 Rules for Life: An Antidote to Chaos</td>\n",
              "      <td>15</td>\n",
              "      <td>4.7</td>\n",
              "      <td>18979</td>\n",
              "      <td>Non Fiction</td>\n",
              "    </tr>\n",
              "    <tr>\n",
              "      <th>3</th>\n",
              "      <td>1984 (Signet Classics)</td>\n",
              "      <td>6</td>\n",
              "      <td>4.7</td>\n",
              "      <td>21424</td>\n",
              "      <td>Fiction</td>\n",
              "    </tr>\n",
              "    <tr>\n",
              "      <th>4</th>\n",
              "      <td>5,000 Awesome Facts (About Everything!) (Natio...</td>\n",
              "      <td>12</td>\n",
              "      <td>4.8</td>\n",
              "      <td>7665</td>\n",
              "      <td>Non Fiction</td>\n",
              "    </tr>\n",
              "    <tr>\n",
              "      <th>...</th>\n",
              "      <td>...</td>\n",
              "      <td>...</td>\n",
              "      <td>...</td>\n",
              "      <td>...</td>\n",
              "      <td>...</td>\n",
              "    </tr>\n",
              "    <tr>\n",
              "      <th>545</th>\n",
              "      <td>Wrecking Ball (Diary of a Wimpy Kid Book 14)</td>\n",
              "      <td>8</td>\n",
              "      <td>4.9</td>\n",
              "      <td>9413</td>\n",
              "      <td>Fiction</td>\n",
              "    </tr>\n",
              "    <tr>\n",
              "      <th>546</th>\n",
              "      <td>You Are a Badass: How to Stop Doubting Your Gr...</td>\n",
              "      <td>8</td>\n",
              "      <td>4.7</td>\n",
              "      <td>14331</td>\n",
              "      <td>Non Fiction</td>\n",
              "    </tr>\n",
              "    <tr>\n",
              "      <th>547</th>\n",
              "      <td>You Are a Badass: How to Stop Doubting Your Gr...</td>\n",
              "      <td>8</td>\n",
              "      <td>4.7</td>\n",
              "      <td>14331</td>\n",
              "      <td>Non Fiction</td>\n",
              "    </tr>\n",
              "    <tr>\n",
              "      <th>548</th>\n",
              "      <td>You Are a Badass: How to Stop Doubting Your Gr...</td>\n",
              "      <td>8</td>\n",
              "      <td>4.7</td>\n",
              "      <td>14331</td>\n",
              "      <td>Non Fiction</td>\n",
              "    </tr>\n",
              "    <tr>\n",
              "      <th>549</th>\n",
              "      <td>You Are a Badass: How to Stop Doubting Your Gr...</td>\n",
              "      <td>8</td>\n",
              "      <td>4.7</td>\n",
              "      <td>14331</td>\n",
              "      <td>Non Fiction</td>\n",
              "    </tr>\n",
              "  </tbody>\n",
              "</table>\n",
              "<p>550 rows × 5 columns</p>\n",
              "</div>"
            ],
            "text/plain": [
              "                                                  Name  ...        Genre\n",
              "0                        10-Day Green Smoothie Cleanse  ...  Non Fiction\n",
              "1                                    11/22/63: A Novel  ...      Fiction\n",
              "2              12 Rules for Life: An Antidote to Chaos  ...  Non Fiction\n",
              "3                               1984 (Signet Classics)  ...      Fiction\n",
              "4    5,000 Awesome Facts (About Everything!) (Natio...  ...  Non Fiction\n",
              "..                                                 ...  ...          ...\n",
              "545       Wrecking Ball (Diary of a Wimpy Kid Book 14)  ...      Fiction\n",
              "546  You Are a Badass: How to Stop Doubting Your Gr...  ...  Non Fiction\n",
              "547  You Are a Badass: How to Stop Doubting Your Gr...  ...  Non Fiction\n",
              "548  You Are a Badass: How to Stop Doubting Your Gr...  ...  Non Fiction\n",
              "549  You Are a Badass: How to Stop Doubting Your Gr...  ...  Non Fiction\n",
              "\n",
              "[550 rows x 5 columns]"
            ]
          },
          "metadata": {
            "tags": []
          },
          "execution_count": 15
        }
      ]
    },
    {
      "cell_type": "code",
      "metadata": {
        "colab": {
          "base_uri": "https://localhost:8080/",
          "height": 458
        },
        "id": "MjHSLpTAskXb",
        "outputId": "8b4e365f-adc2-41c3-b97f-93710972ac87"
      },
      "source": [
        "plt.figure(figsize=(7,7))\n",
        "\n",
        "plt.title('Genre v/s Price')\n",
        "sns.barplot(x = 'Genre',\n",
        "            y = 'Price',\n",
        "            palette= \"cubehelix\",\n",
        "            data = df);"
      ],
      "execution_count": 16,
      "outputs": [
        {
          "output_type": "display_data",
          "data": {
            "image/png": "[encoded data removed]",
            "text/plain": [
              "<Figure size 504x504 with 1 Axes>"
            ]
          },
          "metadata": {
            "tags": [],
            "needs_background": "light"
          }
        }
      ]
    },
    {
      "cell_type": "markdown",
      "metadata": {
        "id": "qeg4u0zJ5HT4"
      },
      "source": [
        "**Non fiction books are high-priced than the fiction books**"
      ]
    },
    {
      "cell_type": "markdown",
      "metadata": {
        "id": "0W5JgCvFskXb"
      },
      "source": [
        "## --\r\n",
        "\r\n",
        "---\r\n",
        "\r\n",
        "---\r\n",
        "\r\n",
        "\r\n",
        "\r\n"
      ]
    },
    {
      "cell_type": "markdown",
      "metadata": {
        "id": "fbdrZFG8skXb"
      },
      "source": [
        "# Deriving insights "
      ]
    },
    {
      "cell_type": "markdown",
      "metadata": {
        "id": "POvQckNOskXc"
      },
      "source": [
        "**Top 5 Authors with most number of books in each genre**"
      ]
    },
    {
      "cell_type": "code",
      "metadata": {
        "colab": {
          "base_uri": "https://localhost:8080/"
        },
        "id": "TyGH7ScFskXc",
        "outputId": "c9c4499d-f79a-487b-f5e5-4d37d7d94f2d"
      },
      "source": [
        "fiction_df = df[df['Genre']== 'Fiction']\n",
        "fiction_df.Author.value_counts()[:5]"
      ],
      "execution_count": 17,
      "outputs": [
        {
          "output_type": "execute_result",
          "data": {
            "text/plain": [
              "Jeff Kinney        12\n",
              "Rick Riordan       11\n",
              "Suzanne Collins    11\n",
              "Dr. Seuss           9\n",
              "Dav Pilkey          7\n",
              "Name: Author, dtype: int64"
            ]
          },
          "metadata": {
            "tags": []
          },
          "execution_count": 17
        }
      ]
    },
    {
      "cell_type": "code",
      "metadata": {
        "colab": {
          "base_uri": "https://localhost:8080/"
        },
        "id": "SbiabAqiskXc",
        "outputId": "da853353-2337-4b04-c00f-b3e35282f766"
      },
      "source": [
        "non_fiction_df = df[df['Genre']== 'Non Fiction']\n",
        "non_fiction_df.Author.value_counts()[:5]"
      ],
      "execution_count": 18,
      "outputs": [
        {
          "output_type": "execute_result",
          "data": {
            "text/plain": [
              "Gary Chapman                          11\n",
              "American Psychological Association    10\n",
              "Gallup                                 9\n",
              "Rob Elliott                            8\n",
              "Stephen R. Covey                       7\n",
              "Name: Author, dtype: int64"
            ]
          },
          "metadata": {
            "tags": []
          },
          "execution_count": 18
        }
      ]
    },
    {
      "cell_type": "markdown",
      "metadata": {
        "id": "AA6WSiYKtjZo"
      },
      "source": [
        "\r\n",
        "\r\n",
        "---\r\n",
        "\r\n",
        "\r\n",
        "\r\n",
        "\r\n"
      ]
    },
    {
      "cell_type": "markdown",
      "metadata": {
        "id": "T9h5FdmCtYCG"
      },
      "source": [
        "**Genre with the highest user ratings**"
      ]
    },
    {
      "cell_type": "code",
      "metadata": {
        "colab": {
          "base_uri": "https://localhost:8080/"
        },
        "id": "G9gU796XskXc",
        "outputId": "a4458ce6-05db-466d-da23-4bd27b988fab"
      },
      "source": [
        "df1 = df.sort_values(\"User Rating\", ascending = False)[df['User Rating'] == 4.9]\r\n",
        "df1.Genre.value_counts()\r\n"
      ],
      "execution_count": 23,
      "outputs": [
        {
          "output_type": "stream",
          "text": [
            "/usr/local/lib/python3.6/dist-packages/ipykernel_launcher.py:1: UserWarning: Boolean Series key will be reindexed to match DataFrame index.\n",
            "  \"\"\"Entry point for launching an IPython kernel.\n"
          ],
          "name": "stderr"
        },
        {
          "output_type": "execute_result",
          "data": {
            "text/plain": [
              "Fiction        41\n",
              "Non Fiction    11\n",
              "Name: Genre, dtype: int64"
            ]
          },
          "metadata": {
            "tags": []
          },
          "execution_count": 23
        }
      ]
    },
    {
      "cell_type": "markdown",
      "metadata": {
        "id": "4ZyHaM7euKHc"
      },
      "source": [
        "**There are more fiction authors (41) with the user rating 4.9 than the non-fiction authors (11)**"
      ]
    },
    {
      "cell_type": "markdown",
      "metadata": {
        "id": "vMNLdx_kuYfh"
      },
      "source": [
        "\r\n",
        "\r\n",
        "---\r\n",
        "\r\n"
      ]
    },
    {
      "cell_type": "markdown",
      "metadata": {
        "id": "6m2dr59ZvDOi"
      },
      "source": [
        "**Year v/s Reviews**"
      ]
    },
    {
      "cell_type": "code",
      "metadata": {
        "colab": {
          "base_uri": "https://localhost:8080/",
          "height": 458
        },
        "id": "ekWg1cbLskXd",
        "outputId": "72c7dfbf-6588-4877-d6dc-a09d51cf4486"
      },
      "source": [
        "plt.figure(figsize=(7,7))\r\n",
        "plt.title(\"Year v/s Reviews\")\r\n",
        "\r\n",
        "sns.barplot(x = 'Year',\r\n",
        "            y = 'Reviews',\r\n",
        "            data = df);"
      ],
      "execution_count": 44,
      "outputs": [
        {
          "output_type": "display_data",
          "data": {
            "image/png": "[encoded data removed]",
            "text/plain": [
              "<Figure size 504x504 with 1 Axes>"
            ]
          },
          "metadata": {
            "tags": [],
            "needs_background": "light"
          }
        }
      ]
    },
    {
      "cell_type": "markdown",
      "metadata": {
        "id": "3H_hT88DvJ92"
      },
      "source": [
        "**Books released in the year 2014 and 2019 got more reviews than the books released in other years**"
      ]
    },
    {
      "cell_type": "markdown",
      "metadata": {
        "id": "gQyV8cfZvYOH"
      },
      "source": [
        "\r\n",
        "\r\n",
        "---\r\n",
        "\r\n"
      ]
    },
    {
      "cell_type": "code",
      "metadata": {
        "colab": {
          "base_uri": "https://localhost:8080/",
          "height": 458
        },
        "id": "UX9uyPFaug7V",
        "outputId": "0623c6ac-6bb7-45c1-a6b8-790b10babb45"
      },
      "source": [
        "plt.figure(figsize=(7,7))\r\n",
        "\r\n",
        "plt.title(\"Price v/s Reviews\")\r\n",
        "sns.lineplot(x = 'Price', \r\n",
        "             y = 'Reviews', \r\n",
        "             hue = 'Genre',\r\n",
        "             data = df);"
      ],
      "execution_count": 45,
      "outputs": [
        {
          "output_type": "display_data",
          "data": {
            "image/png": "[encoded data removed]",
            "text/plain": [
              "<Figure size 504x504 with 1 Axes>"
            ]
          },
          "metadata": {
            "tags": [],
            "needs_background": "light"
          }
        }
      ]
    },
    {
      "cell_type": "markdown",
      "metadata": {
        "id": "kA_HD1dRwOGW"
      },
      "source": [
        "**Fiction book have more reviews than the non-fiction book but non-fiction books have higher prices**"
      ]
    },
    {
      "cell_type": "markdown",
      "metadata": {
        "id": "I2_XRQkhwazf"
      },
      "source": [
        "\r\n",
        "\r\n",
        "---\r\n",
        "\r\n"
      ]
    },
    {
      "cell_type": "markdown",
      "metadata": {
        "id": "RH8r6oyNwdLq"
      },
      "source": [
        "**Price Distribution**"
      ]
    },
    {
      "cell_type": "code",
      "metadata": {
        "colab": {
          "base_uri": "https://localhost:8080/",
          "height": 441
        },
        "id": "LVYA8ZIkvbcl",
        "outputId": "1962c9e9-0845-4b63-9157-7d25e931af79"
      },
      "source": [
        "sns.displot(df['Price'], \r\n",
        "            kind ='kde',\r\n",
        "            height = 6);"
      ],
      "execution_count": 57,
      "outputs": [
        {
          "output_type": "display_data",
          "data": {
            "image/png": "[encoded data removed]",
            "text/plain": [
              "<Figure size 432x432 with 1 Axes>"
            ]
          },
          "metadata": {
            "tags": [],
            "needs_background": "light"
          }
        }
      ]
    },
    {
      "cell_type": "markdown",
      "metadata": {
        "id": "rzp9OWpKxrRP"
      },
      "source": [
        "**Majority of the books are price between 0 to 20**"
      ]
    },
    {
      "cell_type": "markdown",
      "metadata": {
        "id": "pNQBeTGXx-wm"
      },
      "source": [
        "\r\n",
        "\r\n",
        "---\r\n",
        "\r\n"
      ]
    },
    {
      "cell_type": "code",
      "metadata": {
        "colab": {
          "base_uri": "https://localhost:8080/",
          "height": 449
        },
        "id": "gkoPy1U-wFAw",
        "outputId": "7c37acea-4997-4cfb-9929-fdbe3b8bbba3"
      },
      "source": [
        "df_price = df.sort_values(\"Price\", ascending= False)[['Author', 'Price', 'Genre', 'Reviews']].head(10)\r\n",
        "\r\n",
        "plt.xticks(rotation = 90)\r\n",
        "sns.barplot(x = 'Author', \r\n",
        "            y = 'Reviews', \r\n",
        "            data = df_price, hue = \"Genre\");\r\n"
      ],
      "execution_count": 79,
      "outputs": [
        {
          "output_type": "display_data",
          "data": {
            "image/png": "[encoded data removed]",
            "text/plain": [
              "<Figure size 432x288 with 1 Axes>"
            ]
          },
          "metadata": {
            "tags": [],
            "needs_background": "light"
          }
        }
      ]
    },
    {
      "cell_type": "markdown",
      "metadata": {
        "id": "YD2uWcxG2ciX"
      },
      "source": [
        "**Among the authors with high-priced books, J.K. Rowling has the most number of reviews**"
      ]
    },
    {
      "cell_type": "markdown",
      "metadata": {
        "id": "P1OEC8sr3zLX"
      },
      "source": [
        "\r\n",
        "\r\n",
        "---\r\n",
        "\r\n"
      ]
    },
    {
      "cell_type": "code",
      "metadata": {
        "colab": {
          "base_uri": "https://localhost:8080/",
          "height": 555
        },
        "id": "5EeZG_jUy17I",
        "outputId": "9a52414d-ec1c-42b5-888f-3111748cb26b"
      },
      "source": [
        "df_ur = df[df['User Rating']== 4.9][['Author', 'Genre']]\r\n",
        "\r\n",
        "\r\n",
        "plt.figure(figsize=(7,7))\r\n",
        "plt.title(\"Authors with the user rating 4.9\")\r\n",
        "plt.bar( df_ur.Author.value_counts().to_dict().keys(),\r\n",
        "         df_ur.Author.value_counts().to_dict().values())\r\n",
        "plt.xlabel(\"Authors\")\r\n",
        "plt.xticks(rotation = 90)\r\n",
        "plt.ylabel(\"Number of books\");"
      ],
      "execution_count": 92,
      "outputs": [
        {
          "output_type": "display_data",
          "data": {
            "image/png": "[encoded data removed]",
            "text/plain": [
              "<Figure size 504x504 with 1 Axes>"
            ]
          },
          "metadata": {
            "tags": [],
            "needs_background": "light"
          }
        }
      ]
    },
    {
      "cell_type": "markdown",
      "metadata": {
        "id": "XsPbpBaf4til"
      },
      "source": [
        "**Dr. Seuss has most number of books (8) with the user rating 4.9**"
      ]
    },
    {
      "cell_type": "markdown",
      "metadata": {
        "id": "xwYl8bhZ6wWp"
      },
      "source": [
        "# References \r\n",
        "* https://pandas.pydata.org/docs/\r\n",
        "* https://numpy.org/doc/\r\n",
        "* https://seaborn.pydata.org/\r\n",
        "* https://matplotlib.org/stable/index.html"
      ]
    }
  ]
}